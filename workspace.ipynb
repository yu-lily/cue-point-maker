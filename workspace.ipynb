{
 "cells": [
  {
   "cell_type": "code",
   "execution_count": 42,
   "metadata": {},
   "outputs": [],
   "source": [
    "from lxml import etree\n",
    "import numpy as np"
   ]
  },
  {
   "cell_type": "code",
   "execution_count": 57,
   "metadata": {},
   "outputs": [],
   "source": [
    "tree = etree.parse('./minimal_sample.xml')"
   ]
  },
  {
   "cell_type": "code",
   "execution_count": 58,
   "metadata": {},
   "outputs": [
    {
     "name": "stdout",
     "output_type": "stream",
     "text": [
      "PRODUCT []\n",
      "COLLECTION [<Element TRACK at 0x1157530c0>]\n"
     ]
    }
   ],
   "source": [
    "for child in tree.getroot().getchildren():\n",
    "    print(child.tag, child.getchildren())"
   ]
  },
  {
   "cell_type": "code",
   "execution_count": 76,
   "metadata": {},
   "outputs": [
    {
     "name": "stdout",
     "output_type": "stream",
     "text": [
      "[<Element POSITION_MARK at 0x115753c00>]\n",
      "[44.82599999999999, 32.025999999999996, 19.225999999999992, 6.425999999999995]\n"
     ]
    }
   ],
   "source": [
    "tracks = tree.getroot().xpath('//COLLECTION/TRACK')\n",
    "\n",
    "for track in tracks:\n",
    "    track_name = track.attrib['Name']\n",
    "    bpms = track.xpath('TEMPO/@Bpm')\n",
    "    bpms = [float(i) for i in bpms]\n",
    "\n",
    "    if len(bpms) == 0:\n",
    "        print(f\"{track_name} not analyzed, skipping\")\n",
    "        continue\n",
    "    if max(bpms) != np.mean(bpms):\n",
    "        print(f'Warning - Track has multiple BPMs: {track_name} ')\n",
    "    bpm = bpms[0]\n",
    "\n",
    "    if \"PROCESSED\" in track.xpath('POSITION_MARK/@Name'):\n",
    "        print(\"Track already processed, skipping\")\n",
    "        continue\n",
    "\n",
    "    cues = track.xpath('POSITION_MARK')\n",
    "    print(cues)\n",
    "    if len(cues) > 1:\n",
    "        print(f\"SKIPPING - Unprocessed track has multiple cue points: {track_name}\")\n",
    "        continue\n",
    "    if len(cues) == 0:\n",
    "        print(f\"SKIPPING - Unprocessed track has no cue points: {track_name}\")\n",
    "        continue\n",
    "\n",
    "    #ASSUMES FIRST CUE IS AT THE DROP\n",
    "    \n",
    "    #get cue timestamp\n",
    "    drop_timestamp = float(cues[0].attrib['Start'])\n",
    "    #create new cue points 8/16/24/32 bars before\n",
    "    intervals = [8,16,24,32]\n",
    "    beats = [x*4 for x in intervals]\n",
    "    seconds_per_beat = 60/bpm\n",
    "\n",
    "    new_cue_timestamps = [drop_timestamp - (x * seconds_per_beat) for x in beats]\n",
    "    for ts in new_cue_timestamps:\n",
    "        if ts > 0:\n",
    "            ts = format(ts, '.3f')\n",
    "            new_cue = etree.Element(\"POSITION_MARK\", Name=\"PROCESSED\", Type=\"0\", Start=ts, Num=\"-1\")\n",
    "            track.insert(1, new_cue)\n",
    "    print(new_cue_timestamps)\n",
    "    #make sure time >0 on all new cues"
   ]
  },
  {
   "cell_type": "code",
   "execution_count": 79,
   "metadata": {},
   "outputs": [],
   "source": [
    "tree.write('output.xml', pretty_print=True, encoding=\"utf-8\", xml_declaration=True)"
   ]
  },
  {
   "cell_type": "code",
   "execution_count": null,
   "metadata": {},
   "outputs": [],
   "source": []
  }
 ],
 "metadata": {
  "kernelspec": {
   "display_name": ".venv",
   "language": "python",
   "name": "python3"
  },
  "language_info": {
   "codemirror_mode": {
    "name": "ipython",
    "version": 3
   },
   "file_extension": ".py",
   "mimetype": "text/x-python",
   "name": "python",
   "nbconvert_exporter": "python",
   "pygments_lexer": "ipython3",
   "version": "3.11.4"
  }
 },
 "nbformat": 4,
 "nbformat_minor": 2
}
